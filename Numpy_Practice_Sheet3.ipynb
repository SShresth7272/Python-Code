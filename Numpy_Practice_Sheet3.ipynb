{
  "nbformat": 4,
  "nbformat_minor": 0,
  "metadata": {
    "colab": {
      "provenance": [],
      "authorship_tag": "ABX9TyPY8kRfMkHVcZz/yDfw2avM",
      "include_colab_link": true
    },
    "kernelspec": {
      "name": "python3",
      "display_name": "Python 3"
    },
    "language_info": {
      "name": "python"
    }
  },
  "cells": [
    {
      "cell_type": "markdown",
      "metadata": {
        "id": "view-in-github",
        "colab_type": "text"
      },
      "source": [
        "<a href=\"https://colab.research.google.com/github/SShresth7272/Python-Code/blob/main/Numpy_Practice_Sheet3.ipynb\" target=\"_parent\"><img src=\"https://colab.research.google.com/assets/colab-badge.svg\" alt=\"Open In Colab\"/></a>"
      ]
    },
    {
      "cell_type": "markdown",
      "source": [
        "\n",
        "\n",
        "```\n",
        "# This is formatted as code\n",
        "```Creating a DataFrame and Accessing its NumPy Core:\n",
        "\n",
        "Exercise: Create a DataFrame and convert it to a NumPy array.\n",
        "\n"
      ],
      "metadata": {
        "id": "tbN35rhAuGB8"
      }
    },
    {
      "cell_type": "code",
      "source": [
        "import pandas as pd\n",
        "import numpy as np\n",
        "\n",
        "df = pd.DataFrame({\n",
        "    'A': [1, 2, 3],\n",
        "    'B': [4.1, 5.2, 6.3],\n",
        "    'C': ['X', 'Y', 'Z']\n",
        "})\n",
        "print(df)\n",
        "array_old = df.values\n",
        "print(array_old, array_old.dtype)\n",
        "array_new = df[['A', 'B']].to_numpy()\n",
        "print(array_new, array_new.dtype)"
      ],
      "metadata": {
        "colab": {
          "base_uri": "https://localhost:8080/"
        },
        "id": "gnOQE1tQuJA5",
        "outputId": "e60b97fc-9cdf-4aa0-91df-43cd23a90658"
      },
      "execution_count": 2,
      "outputs": [
        {
          "output_type": "stream",
          "name": "stdout",
          "text": [
            "   A    B  C\n",
            "0  1  4.1  X\n",
            "1  2  5.2  Y\n",
            "2  3  6.3  Z\n",
            "[[1 4.1 'X']\n",
            " [2 5.2 'Y']\n",
            " [3 6.3 'Z']] object\n",
            "[[1.  4.1]\n",
            " [2.  5.2]\n",
            " [3.  6.3]] float64\n"
          ]
        }
      ]
    },
    {
      "cell_type": "code",
      "source": [
        "# Create a 10x3 array of random sales data\n",
        "import pandas as pd\n",
        "import numpy as np\n",
        "sales_data = np.random.randn(10, 3) * 100 + 500  # Mean ~500, Std Dev ~100\n",
        "df_sales = pd.DataFrame(sales_data, columns=['Product_A', 'Product_B', 'Product_C'])\n",
        "print(df_sales.head())"
      ],
      "metadata": {
        "colab": {
          "base_uri": "https://localhost:8080/"
        },
        "id": "SSMBdfvvERBC",
        "outputId": "a349f377-52d2-4884-91e0-3131647dc032"
      },
      "execution_count": 2,
      "outputs": [
        {
          "output_type": "stream",
          "name": "stdout",
          "text": [
            "    Product_A   Product_B   Product_C\n",
            "0  604.202259  394.814445  566.057260\n",
            "1  658.760356  515.389710  450.155977\n",
            "2  594.401460  374.818104  735.443440\n",
            "3  611.216478  551.341463  383.367073\n",
            "4  681.860279  368.872278  540.477867\n"
          ]
        }
      ]
    },
    {
      "cell_type": "code",
      "source": [
        "product_a_sales = df_sales['Product_A']\n",
        "print(\"Mean:\", np.mean(product_a_sales))\n",
        "print(\"Standard Deviation:\", np.std(product_a_sales))\n",
        "print(\"Log-Transformed Sales:\\n\", np.log(product_a_sales))"
      ],
      "metadata": {
        "colab": {
          "base_uri": "https://localhost:8080/"
        },
        "id": "lHo6HryfFOCI",
        "outputId": "546a8237-1008-4720-b100-f6d30be9d55a"
      },
      "execution_count": 3,
      "outputs": [
        {
          "output_type": "stream",
          "name": "stdout",
          "text": [
            "Mean: 568.2484731729855\n",
            "Standard Deviation: 87.31621180884306\n",
            "Log-Transformed Sales:\n",
            " 0    6.403909\n",
            "1    6.490360\n",
            "2    6.387555\n",
            "3    6.415451\n",
            "4    6.524825\n",
            "5    6.192625\n",
            "6    6.403379\n",
            "7    6.333442\n",
            "8    5.907835\n",
            "9    6.230547\n",
            "Name: Product_A, dtype: float64\n"
          ]
        }
      ]
    },
    {
      "cell_type": "code",
      "source": [
        "# On our sales_data array from before\n",
        "print(\"Column means:\", np.mean(sales_data, axis=0))   # Like df.mean()\n",
        "print(\"Row sums:\", np.sum(sales_data, axis=1))       # Like df.sum(axis=1)\n",
        "print(\"Overall max:\", np.max(sales_data))            # Global maximum"
      ],
      "metadata": {
        "colab": {
          "base_uri": "https://localhost:8080/"
        },
        "id": "8LvWya6KF6Qy",
        "outputId": "74f00e21-7fa1-4503-eb6c-304988743ebc"
      },
      "execution_count": 4,
      "outputs": [
        {
          "output_type": "stream",
          "name": "stdout",
          "text": [
            "Column means: [568.24847317 462.16746959 505.34304244]\n",
            "Row sums: [1565.07396384 1624.30604283 1704.66300419 1545.92501373 1591.21042329\n",
            " 1548.13230735 1445.85864218 1405.19963282 1566.47719698 1360.74362479]\n",
            "Overall max: 735.4434402020742\n"
          ]
        }
      ]
    },
    {
      "cell_type": "markdown",
      "source": [
        " Handling Missing Data (np.nan):\n",
        "\n",
        "Exercise: NumPy uses np.nan to represent missing numerical data. Learn to handle it."
      ],
      "metadata": {
        "id": "QdasT9w4GdFH"
      }
    },
    {
      "cell_type": "code",
      "source": [
        "arr_with_nan = np.array([1, 2, np.nan, 4, 5])\n",
        "print(np.sum(arr_with_nan))\n",
        "print(np.nansum(arr_with_nan))\n",
        "print(np.isnan(arr_with_nan))\n",
        "# Clean the array\n",
        "cleaned_arr = arr_with_nan[~np.isnan(arr_with_nan)]\n",
        "print(cleaned_arr)                  6"
      ],
      "metadata": {
        "colab": {
          "base_uri": "https://localhost:8080/"
        },
        "id": "yFoSgLNeGedH",
        "outputId": "78649953-39cf-41cd-f2ae-3c34dac5538d"
      },
      "execution_count": 5,
      "outputs": [
        {
          "output_type": "stream",
          "name": "stdout",
          "text": [
            "nan\n",
            "12.0\n",
            "[False False  True False False]\n",
            "[1. 2. 4. 5.]\n"
          ]
        }
      ]
    }
  ]
}