{
  "nbformat": 4,
  "nbformat_minor": 0,
  "metadata": {
    "colab": {
      "provenance": [],
      "authorship_tag": "ABX9TyOGAZy6ZmbeTtpXfq+qvskz",
      "include_colab_link": true
    },
    "kernelspec": {
      "name": "python3",
      "display_name": "Python 3"
    },
    "language_info": {
      "name": "python"
    }
  },
  "cells": [
    {
      "cell_type": "markdown",
      "metadata": {
        "id": "view-in-github",
        "colab_type": "text"
      },
      "source": [
        "<a href=\"https://colab.research.google.com/github/SShresth7272/Python-Code/blob/main/Pandas_Dataset2_.ipynb\" target=\"_parent\"><img src=\"https://colab.research.google.com/assets/colab-badge.svg\" alt=\"Open In Colab\"/></a>"
      ]
    },
    {
      "cell_type": "code",
      "execution_count": 3,
      "metadata": {
        "id": "o2bYsVOWdOqI"
      },
      "outputs": [],
      "source": [
        "from sklearn.datasets import load_iris\n",
        "import pandas as pd\n",
        "iris = load_iris()\n",
        "df_iris = pd.DataFrame(iris.data, columns=iris.feature_names)\n",
        "df_iris['species'] = iris.target"
      ]
    },
    {
      "cell_type": "code",
      "source": [
        "print(df_iris.head())"
      ],
      "metadata": {
        "colab": {
          "base_uri": "https://localhost:8080/"
        },
        "id": "wnSNrHubd3pE",
        "outputId": "3542029c-9d99-435d-a77c-e9511809287b"
      },
      "execution_count": 4,
      "outputs": [
        {
          "output_type": "stream",
          "name": "stdout",
          "text": [
            "   sepal length (cm)  sepal width (cm)  petal length (cm)  petal width (cm)  \\\n",
            "0                5.1               3.5                1.4               0.2   \n",
            "1                4.9               3.0                1.4               0.2   \n",
            "2                4.7               3.2                1.3               0.2   \n",
            "3                4.6               3.1                1.5               0.2   \n",
            "4                5.0               3.6                1.4               0.2   \n",
            "\n",
            "   species  \n",
            "0        0  \n",
            "1        0  \n",
            "2        0  \n",
            "3        0  \n",
            "4        0  \n"
          ]
        }
      ]
    },
    {
      "cell_type": "code",
      "source": [
        "print(df_iris['species'].unique())"
      ],
      "metadata": {
        "colab": {
          "base_uri": "https://localhost:8080/"
        },
        "id": "fS5e-HFLd-AE",
        "outputId": "db292e68-3d48-498a-d846-506c8ffec4f0"
      },
      "execution_count": 5,
      "outputs": [
        {
          "output_type": "stream",
          "name": "stdout",
          "text": [
            "[0 1 2]\n"
          ]
        }
      ]
    },
    {
      "cell_type": "code",
      "source": [
        "print(iris.target_names)"
      ],
      "metadata": {
        "colab": {
          "base_uri": "https://localhost:8080/"
        },
        "id": "Nehvz9h8eCJ7",
        "outputId": "2fad4cd6-8e58-4b76-c570-dddbfd853a47"
      },
      "execution_count": 6,
      "outputs": [
        {
          "output_type": "stream",
          "name": "stdout",
          "text": [
            "['setosa' 'versicolor' 'virginica']\n"
          ]
        }
      ]
    },
    {
      "cell_type": "code",
      "source": [
        "print(df_iris['species'].value_counts().sort_index())"
      ],
      "metadata": {
        "colab": {
          "base_uri": "https://localhost:8080/"
        },
        "id": "DMbWQKzMeL0K",
        "outputId": "2b97c0d7-22c8-4b81-d17b-e6479a9b3fb2"
      },
      "execution_count": 7,
      "outputs": [
        {
          "output_type": "stream",
          "name": "stdout",
          "text": [
            "species\n",
            "0    50\n",
            "1    50\n",
            "2    50\n",
            "Name: count, dtype: int64\n"
          ]
        }
      ]
    },
    {
      "cell_type": "code",
      "source": [
        "df_iris.columns = [col.replace(' ', '_').replace('(cm)', '').strip()\n",
        "                   for col in df_iris.columns]\n",
        "\n"
      ],
      "metadata": {
        "id": "4ldPErXAe_OS"
      },
      "execution_count": 8,
      "outputs": []
    },
    {
      "cell_type": "code",
      "source": [
        "print (df_iris.columns)"
      ],
      "metadata": {
        "colab": {
          "base_uri": "https://localhost:8080/"
        },
        "id": "EC1SmBEYfFoo",
        "outputId": "43bae961-3507-4b92-eafb-6e3b80687900"
      },
      "execution_count": 10,
      "outputs": [
        {
          "output_type": "stream",
          "name": "stdout",
          "text": [
            "Index(['sepal_length_', 'sepal_width_', 'petal_length_', 'petal_width_',\n",
            "       'species'],\n",
            "      dtype='object')\n"
          ]
        }
      ]
    },
    {
      "cell_type": "code",
      "source": [
        "# Filter rows where petal_length is greater than 1.5\n",
        "filtered_petal = df_iris[df_iris['petal_length_'] > 1.5]\n",
        "\n",
        "print(\"Rows with petal_length > 1.5:\")\n",
        "print(f\"Number of rows: {len(filtered_petal)}\")\n",
        "print(filtered_petal.head())"
      ],
      "metadata": {
        "colab": {
          "base_uri": "https://localhost:8080/"
        },
        "id": "F1jekH2sgBFZ",
        "outputId": "8db35802-e087-40ad-e237-62c956ba76f8"
      },
      "execution_count": 16,
      "outputs": [
        {
          "output_type": "stream",
          "name": "stdout",
          "text": [
            "Rows with petal_length > 1.5:\n",
            "Number of rows: 113\n",
            "    sepal_length_  sepal_width_  petal_length_  petal_width_  species\n",
            "5             5.4           3.9            1.7           0.4        0\n",
            "11            4.8           3.4            1.6           0.2        0\n",
            "18            5.7           3.8            1.7           0.3        0\n",
            "20            5.4           3.4            1.7           0.2        0\n",
            "23            5.1           3.3            1.7           0.5        0\n"
          ]
        }
      ]
    },
    {
      "cell_type": "code",
      "source": [
        "# Filter rows where species equals 2 (virginica)\n",
        "filtered_species = df_iris[df_iris['species'] == 2]\n",
        "\n",
        "print(\"\\nRows with species = 2 (virginica):\")\n",
        "print(f\"Number of rows: {len(filtered_species)}\")\n",
        "print(filtered_species.head())"
      ],
      "metadata": {
        "colab": {
          "base_uri": "https://localhost:8080/"
        },
        "id": "grxtaPIzgh24",
        "outputId": "c897ec8c-2533-48a0-c334-4fa44663fd63"
      },
      "execution_count": 17,
      "outputs": [
        {
          "output_type": "stream",
          "name": "stdout",
          "text": [
            "\n",
            "Rows with species = 2 (virginica):\n",
            "Number of rows: 50\n",
            "     sepal_length_  sepal_width_  petal_length_  petal_width_  species\n",
            "100            6.3           3.3            6.0           2.5        2\n",
            "101            5.8           2.7            5.1           1.9        2\n",
            "102            7.1           3.0            5.9           2.1        2\n",
            "103            6.3           2.9            5.6           1.8        2\n",
            "104            6.5           3.0            5.8           2.2        2\n"
          ]
        }
      ]
    },
    {
      "cell_type": "code",
      "source": [
        "# Combine both conditions (AND operation)\n",
        "combined_filter = df_iris[(df_iris['petal_length_'] > 1.5) & (df_iris['species'] == 2)]\n",
        "\n",
        "print(\"Rows with petal_length > 1.5 AND species = 2:\")\n",
        "print(f\"Number of rows: {len(combined_filter)}\")\n",
        "print(combined_filter.head(10))"
      ],
      "metadata": {
        "colab": {
          "base_uri": "https://localhost:8080/"
        },
        "id": "A4_vvMLYgrzv",
        "outputId": "5b7922fa-5ddf-47aa-9de7-95a873a17ce2"
      },
      "execution_count": 24,
      "outputs": [
        {
          "output_type": "stream",
          "name": "stdout",
          "text": [
            "Rows with petal_length > 1.5 AND species = 2:\n",
            "Number of rows: 50\n",
            "     sepal_length_  sepal_width_  petal_length_  petal_width_  species\n",
            "100            6.3           3.3            6.0           2.5        2\n",
            "101            5.8           2.7            5.1           1.9        2\n",
            "102            7.1           3.0            5.9           2.1        2\n",
            "103            6.3           2.9            5.6           1.8        2\n",
            "104            6.5           3.0            5.8           2.2        2\n",
            "105            7.6           3.0            6.6           2.1        2\n",
            "106            4.9           2.5            4.5           1.7        2\n",
            "107            7.3           2.9            6.3           1.8        2\n",
            "108            6.7           2.5            5.8           1.8        2\n",
            "109            7.2           3.6            6.1           2.5        2\n"
          ]
        }
      ]
    },
    {
      "cell_type": "code",
      "source": [
        "# Filter and select specific columns\n",
        "filtered_subset = df_iris.loc[df_iris['species'] == 2, ['sepal_length_', 'petal_length_', 'species']]\n",
        "\n",
        "print(\"Selected columns for species = 2:\")\n",
        "print(filtered_subset.head())"
      ],
      "metadata": {
        "colab": {
          "base_uri": "https://localhost:8080/"
        },
        "id": "05t8sZSbhFTe",
        "outputId": "de475331-583f-4a04-c463-2a09727c2a81"
      },
      "execution_count": 21,
      "outputs": [
        {
          "output_type": "stream",
          "name": "stdout",
          "text": [
            "Selected columns for species = 2:\n",
            "     sepal_length_  petal_length_  species\n",
            "100            6.3            6.0        2\n",
            "101            5.8            5.1        2\n",
            "102            7.1            5.9        2\n",
            "103            6.3            5.6        2\n",
            "104            6.5            5.8        2\n"
          ]
        }
      ]
    },
    {
      "cell_type": "code",
      "source": [
        "# Group by species and calculate mean sepal_length\n",
        "sepal_length_avg = df_iris.groupby('species')['sepal_length_'].mean()\n",
        "\n",
        "print(\"Average sepal_length per species:\")\n",
        "print(sepal_length_avg)"
      ],
      "metadata": {
        "colab": {
          "base_uri": "https://localhost:8080/"
        },
        "id": "7S1C8o5pma5A",
        "outputId": "c58b3dea-7141-4ac7-afcb-e1437760e981"
      },
      "execution_count": 26,
      "outputs": [
        {
          "output_type": "stream",
          "name": "stdout",
          "text": [
            "Average sepal_length per species:\n",
            "species\n",
            "0    5.006\n",
            "1    5.936\n",
            "2    6.588\n",
            "Name: sepal_length_, dtype: float64\n"
          ]
        }
      ]
    },
    {
      "cell_type": "code",
      "source": [
        "# Group by species and calculate max petal_width\n",
        "petal_width_max = df_iris.groupby('species')['petal_width_'].max()\n",
        "\n",
        "print(\"\\nMaximum petal_width per species:\")\n",
        "print(petal_width_max)"
      ],
      "metadata": {
        "colab": {
          "base_uri": "https://localhost:8080/"
        },
        "id": "IAS7KpWWmuFP",
        "outputId": "03ec7244-d5e8-4aa4-9623-45e84e4f96bd"
      },
      "execution_count": 28,
      "outputs": [
        {
          "output_type": "stream",
          "name": "stdout",
          "text": [
            "\n",
            "Maximum petal_width per species:\n",
            "species\n",
            "0    0.6\n",
            "1    1.8\n",
            "2    2.5\n",
            "Name: petal_width_, dtype: float64\n"
          ]
        }
      ]
    },
    {
      "cell_type": "code",
      "source": [
        "# Get detailed statistics for each species group\n",
        "detailed_stats = df_iris.groupby('species')['sepal_length_'].describe()\n",
        "\n",
        "print(\"Detailed sepal_length statistics per species:\")\n",
        "print(detailed_stats)"
      ],
      "metadata": {
        "colab": {
          "base_uri": "https://localhost:8080/"
        },
        "id": "dvs2EK7KnU4d",
        "outputId": "e27ce8fa-cdd6-4c61-cc89-497cea07330d"
      },
      "execution_count": 30,
      "outputs": [
        {
          "output_type": "stream",
          "name": "stdout",
          "text": [
            "Detailed sepal_length statistics per species:\n",
            "         count   mean       std  min    25%  50%  75%  max\n",
            "species                                                   \n",
            "0         50.0  5.006  0.352490  4.3  4.800  5.0  5.2  5.8\n",
            "1         50.0  5.936  0.516171  4.9  5.600  5.9  6.3  7.0\n",
            "2         50.0  6.588  0.635880  4.9  6.225  6.5  6.9  7.9\n"
          ]
        }
      ]
    }
  ]
}