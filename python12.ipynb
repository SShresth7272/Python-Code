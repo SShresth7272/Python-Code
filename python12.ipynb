{
  "nbformat": 4,
  "nbformat_minor": 0,
  "metadata": {
    "colab": {
      "provenance": [],
      "authorship_tag": "ABX9TyPR2LkKLyk5iFR1h4S5ouQ2",
      "include_colab_link": true
    },
    "kernelspec": {
      "name": "python3",
      "display_name": "Python 3"
    },
    "language_info": {
      "name": "python"
    }
  },
  "cells": [
    {
      "cell_type": "markdown",
      "metadata": {
        "id": "view-in-github",
        "colab_type": "text"
      },
      "source": [
        "<a href=\"https://colab.research.google.com/github/SShresth7272/Python-Code/blob/main/python12.ipynb\" target=\"_parent\"><img src=\"https://colab.research.google.com/assets/colab-badge.svg\" alt=\"Open In Colab\"/></a>"
      ]
    },
    {
      "cell_type": "code",
      "execution_count": 1,
      "metadata": {
        "colab": {
          "base_uri": "https://localhost:8080/"
        },
        "id": "hemVqcyFONI6",
        "outputId": "9db27de7-a974-4671-9bd8-f58f65f6b358"
      },
      "outputs": [
        {
          "output_type": "stream",
          "name": "stdout",
          "text": [
            "Sales DataFrame:\n",
            "  Order_Date Product   Region  Units_Sold  Unit_Price\n",
            "0 2024-01-01       A     East           5       100.0\n",
            "1 2024-01-02       B     East           3       200.0\n",
            "2 2024-01-03       A     West           4       105.0\n",
            "3 2024-01-04       C  Central           2       150.0\n",
            "4 2024-01-05       B     West           6       195.0\n",
            "5 2024-01-06       C      NaN           7       155.0\n"
          ]
        }
      ],
      "source": [
        "import pandas as pd\n",
        "import numpy as np\n",
        "\n",
        "# Create a DataFrame with dates and missing values\n",
        "df_sales = pd.DataFrame({\n",
        "    \"Order_Date\": pd.date_range('2024-01-01', periods=6, freq='D'),\n",
        "    \"Product\": [\"A\", \"B\", \"A\", \"C\", \"B\", \"C\"],\n",
        "    \"Region\": [\"East\", \"East\", \"West\", \"Central\", \"West\", np.nan],\n",
        "    \"Units_Sold\": [5, 3, 4, 2, 6, 7],\n",
        "    \"Unit_Price\": [100.0, 200.0, 105.0, 150.0, 195.0, 155.0]\n",
        "})\n",
        "\n",
        "print(\"Sales DataFrame:\")\n",
        "print(df_sales)"
      ]
    }
  ]
}