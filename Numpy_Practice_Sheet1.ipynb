{
  "nbformat": 4,
  "nbformat_minor": 0,
  "metadata": {
    "colab": {
      "provenance": [],
      "authorship_tag": "ABX9TyMyZYlDKbYSnS60B8XAuqvf",
      "include_colab_link": true
    },
    "kernelspec": {
      "name": "python3",
      "display_name": "Python 3"
    },
    "language_info": {
      "name": "python"
    }
  },
  "cells": [
    {
      "cell_type": "markdown",
      "metadata": {
        "id": "view-in-github",
        "colab_type": "text"
      },
      "source": [
        "<a href=\"https://colab.research.google.com/github/SShresth7272/Python-Code/blob/main/Numpy_Practice_Sheet1.ipynb\" target=\"_parent\"><img src=\"https://colab.research.google.com/assets/colab-badge.svg\" alt=\"Open In Colab\"/></a>"
      ]
    },
    {
      "cell_type": "code",
      "source": [],
      "metadata": {
        "id": "F6OACBeMwu1m"
      },
      "execution_count": null,
      "outputs": []
    },
    {
      "cell_type": "code",
      "execution_count": 1,
      "metadata": {
        "colab": {
          "base_uri": "https://localhost:8080/"
        },
        "id": "fdLyCQb3gIi7",
        "outputId": "a314f6a9-c67c-4696-d790-f080400ff5d3"
      },
      "outputs": [
        {
          "output_type": "stream",
          "name": "stdout",
          "text": [
            "[1 2 3 4 5]\n",
            "<class 'numpy.ndarray'>\n"
          ]
        }
      ],
      "source": [
        "import numpy as np\n",
        "list_1 = [1, 2, 3, 4, 5]\n",
        "arr_1d = np.array(list_1)\n",
        "print(arr_1d)\n",
        "print(type(arr_1d))"
      ]
    },
    {
      "cell_type": "code",
      "source": [
        "print(arr_1d.shape)\n",
        "print(arr_1d.ndim)\n",
        "print(arr_1d.dtype)\n",
        "print(arr_1d.size)"
      ],
      "metadata": {
        "colab": {
          "base_uri": "https://localhost:8080/"
        },
        "id": "cp2gB7GthQ_K",
        "outputId": "d465abf6-67a5-4031-88a7-3d975415fca6"
      },
      "execution_count": 2,
      "outputs": [
        {
          "output_type": "stream",
          "name": "stdout",
          "text": [
            "(5,)\n",
            "1\n",
            "int64\n",
            "5\n"
          ]
        }
      ]
    },
    {
      "cell_type": "code",
      "source": [
        "import numpy as np\n",
        "\n",
        "# Create a 3x4 array of zeros (default dtype is float)\n",
        "zeros_array = np.zeros((3, 4))\n",
        "print(zeros_array)\n",
        "zeros_arr = np.zeros((3, 4))\n"
      ],
      "metadata": {
        "colab": {
          "base_uri": "https://localhost:8080/"
        },
        "id": "APzh1FKgmq_a",
        "outputId": "7ee300ff-547b-4770-892a-6efb994d2fc3"
      },
      "execution_count": 8,
      "outputs": [
        {
          "output_type": "stream",
          "name": "stdout",
          "text": [
            "[[0. 0. 0. 0.]\n",
            " [0. 0. 0. 0.]\n",
            " [0. 0. 0. 0.]]\n"
          ]
        }
      ]
    },
    {
      "cell_type": "code",
      "source": [
        "arr_2d = np.array([[1, 2, 3], [4, 5, 6], [7, 8, 9]])\n",
        "print(arr_2d[0, 1])    # Output: 2 (row 0, column 1)\n",
        "print(arr_2d[:, 1])    # Output: [2, 5, 8] (all rows, column 1)\n",
        "print(arr_2d[1:3, :2]) # Rows 1&2, first two columns: [[4, 5], [7, 8]]\n",
        "\n",
        "# Boolean indexing (very powerful!)\n",
        "arr = np.array([1, 5, 2, 10, 3])\n",
        "print(arr[arr > 4])    # Output: [5, 10]"
      ],
      "metadata": {
        "colab": {
          "base_uri": "https://localhost:8080/"
        },
        "id": "lbesSgT2oEUg",
        "outputId": "404cb41c-d0f2-45c9-827c-d517ef5ea332"
      },
      "execution_count": 10,
      "outputs": [
        {
          "output_type": "stream",
          "name": "stdout",
          "text": [
            "2\n",
            "[2 5 8]\n",
            "[[4 5]\n",
            " [7 8]]\n",
            "[ 5 10]\n"
          ]
        }
      ]
    },
    {
      "cell_type": "markdown",
      "source": [
        "Array Indexing and Slicing (CRITICAL):"
      ],
      "metadata": {
        "id": "qu2t9smLp8DH"
      }
    },
    {
      "cell_type": "code",
      "source": [
        "arr_2d = np.array([[1, 2, 3], [4, 5, 6], [7, 8, 9]])\n",
        "print(arr_2d[0, 1])    # Output: 2 (row 0, column 1)\n",
        "print(arr_2d[:, 1])    # Output: [2, 5, 8] (all rows, column 1)\n",
        "print(arr_2d[1:3, :2]) # Rows 1&2, first two columns: [[4, 5], [7, 8]]\n",
        "\n",
        "# Boolean indexing (very powerful!)\n",
        "arr = np.array([1, 5, 2, 10, 3])\n",
        "print(arr[arr > 4])    # Output: [5, 10]"
      ],
      "metadata": {
        "colab": {
          "base_uri": "https://localhost:8080/"
        },
        "id": "g7Dl1iq5p9do",
        "outputId": "0d884278-ddae-4e8d-cb9e-bbf3dd43f4fa"
      },
      "execution_count": 11,
      "outputs": [
        {
          "output_type": "stream",
          "name": "stdout",
          "text": [
            "2\n",
            "[2 5 8]\n",
            "[[4 5]\n",
            " [7 8]]\n",
            "[ 5 10]\n"
          ]
        }
      ]
    },
    {
      "cell_type": "markdown",
      "source": [
        "Vectorized Operations (The Power of NumPy):"
      ],
      "metadata": {
        "id": "HqY9K1ePuKMd"
      }
    },
    {
      "cell_type": "code",
      "source": [
        "a = np.array([1, 2, 3])\n",
        "b = np.array([4, 5, 6])\n",
        "print(a + b)\n",
        "print(a * b)\n",
        "print(a ** 2)\n",
        "print(np.sqrt(a))"
      ],
      "metadata": {
        "colab": {
          "base_uri": "https://localhost:8080/"
        },
        "id": "gCB7aAQEuLns",
        "outputId": "fe56bcce-f823-4c93-d6cd-c6a7dae412ca"
      },
      "execution_count": 12,
      "outputs": [
        {
          "output_type": "stream",
          "name": "stdout",
          "text": [
            "[5 7 9]\n",
            "[ 4 10 18]\n",
            "[1 4 9]\n",
            "[1.         1.41421356 1.73205081]\n"
          ]
        }
      ]
    },
    {
      "cell_type": "code",
      "source": [
        "arr = np.array([-1, 0.5, 2.7])\n",
        "print(np.abs(arr))   # Absolute value\n",
        "print(np.sin(arr))   # Sine\n",
        "print(np.exp(arr))   # Exponential\n",
        "print(np.log(arr+2)) # Natural log (avoid log(0))"
      ],
      "metadata": {
        "colab": {
          "base_uri": "https://localhost:8080/"
        },
        "id": "Zq_NqZrjwBy8",
        "outputId": "5d112c93-26a6-4468-ba11-f48746dc83bb"
      },
      "execution_count": 13,
      "outputs": [
        {
          "output_type": "stream",
          "name": "stdout",
          "text": [
            "[1.  0.5 2.7]\n",
            "[-0.84147098  0.47942554  0.42737988]\n",
            "[ 0.36787944  1.64872127 14.87973172]\n",
            "[0.         0.91629073 1.54756251]\n"
          ]
        }
      ]
    }
  ]
}