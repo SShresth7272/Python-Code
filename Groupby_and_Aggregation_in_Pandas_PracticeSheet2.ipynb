{
  "nbformat": 4,
  "nbformat_minor": 0,
  "metadata": {
    "colab": {
      "provenance": [],
      "authorship_tag": "ABX9TyOYRfO32cxGsfwjlgREjRoN",
      "include_colab_link": true
    },
    "kernelspec": {
      "name": "python3",
      "display_name": "Python 3"
    },
    "language_info": {
      "name": "python"
    }
  },
  "cells": [
    {
      "cell_type": "markdown",
      "metadata": {
        "id": "view-in-github",
        "colab_type": "text"
      },
      "source": [
        "<a href=\"https://colab.research.google.com/github/SShresth7272/Python-Code/blob/main/Groupby_and_Aggregation_in_Pandas_PracticeSheet2.ipynb\" target=\"_parent\"><img src=\"https://colab.research.google.com/assets/colab-badge.svg\" alt=\"Open In Colab\"/></a>"
      ]
    },
    {
      "cell_type": "code",
      "execution_count": 1,
      "metadata": {
        "id": "VOSME1e4tijE"
      },
      "outputs": [],
      "source": [
        "import pandas as pd\n",
        "import numpy as np\n",
        "import matplotlib.pyplot as plt\n",
        "import seaborn as sns"
      ]
    },
    {
      "cell_type": "code",
      "source": [
        "# Store sales data\n",
        "store_data = {\n",
        "    'store_id': ['A', 'A', 'A', 'B', 'B', 'B', 'C', 'C', 'C', 'A', 'B', 'C'],\n",
        "    'product_type': ['Grocery', 'Electronics', 'Clothing', 'Grocery', 'Electronics', 'Clothing',\n",
        "                    'Grocery', 'Electronics', 'Clothing', 'Grocery', 'Electronics', 'Clothing'],\n",
        "    'sales': [2500, 15000, 8000, 1800, 12000, 6500, 3200, 18000, 9200, 2800, 14000, 7500],\n",
        "    'month': ['Jan', 'Jan', 'Jan', 'Jan', 'Jan', 'Jan', 'Jan', 'Jan', 'Jan', 'Feb', 'Feb', 'Feb']\n",
        "}"
      ],
      "metadata": {
        "id": "FbXE2DnOuAlZ"
      },
      "execution_count": 2,
      "outputs": []
    },
    {
      "cell_type": "code",
      "source": [
        "stores = pd.DataFrame(store_data)\n",
        "print(\"\\n9. Store Sales Data:\")\n",
        "print(stores)"
      ],
      "metadata": {
        "colab": {
          "base_uri": "https://localhost:8080/"
        },
        "id": "G8zzTWPpuRiw",
        "outputId": "85ddd262-6de4-439b-87b2-0860cc339282"
      },
      "execution_count": 3,
      "outputs": [
        {
          "output_type": "stream",
          "name": "stdout",
          "text": [
            "\n",
            "9. Store Sales Data:\n",
            "   store_id product_type  sales month\n",
            "0         A      Grocery   2500   Jan\n",
            "1         A  Electronics  15000   Jan\n",
            "2         A     Clothing   8000   Jan\n",
            "3         B      Grocery   1800   Jan\n",
            "4         B  Electronics  12000   Jan\n",
            "5         B     Clothing   6500   Jan\n",
            "6         C      Grocery   3200   Jan\n",
            "7         C  Electronics  18000   Jan\n",
            "8         C     Clothing   9200   Jan\n",
            "9         A      Grocery   2800   Feb\n",
            "10        B  Electronics  14000   Feb\n",
            "11        C     Clothing   7500   Feb\n"
          ]
        }
      ]
    },
    {
      "cell_type": "code",
      "source": [
        "store_performance = stores.groupby('store_id')['sales'].agg(['sum', 'mean', 'count'])\n",
        "print(\"\\n10. Store Performance:\")\n",
        "print(store_performance)"
      ],
      "metadata": {
        "colab": {
          "base_uri": "https://localhost:8080/"
        },
        "id": "PsG0QhRMuYDR",
        "outputId": "40009af8-2950-404f-b4b9-e2c5f74254e5"
      },
      "execution_count": 4,
      "outputs": [
        {
          "output_type": "stream",
          "name": "stdout",
          "text": [
            "\n",
            "10. Store Performance:\n",
            "            sum    mean  count\n",
            "store_id                      \n",
            "A         28300  7075.0      4\n",
            "B         34300  8575.0      4\n",
            "C         37900  9475.0      4\n"
          ]
        }
      ]
    },
    {
      "cell_type": "code",
      "source": [
        "product_performance = stores.groupby('product_type')['sales'].agg([\n",
        "    ('total_sales', 'sum'),\n",
        "    ('avg_sales', 'mean'),\n",
        "    ('store_count', 'count')\n",
        "])\n",
        "print(\"\\n11. Product Performance:\")\n",
        "print(product_performance)"
      ],
      "metadata": {
        "colab": {
          "base_uri": "https://localhost:8080/"
        },
        "id": "vJmmSnaTuhqn",
        "outputId": "b3f4fb6b-3da9-4ed3-9475-3d70c220d3ed"
      },
      "execution_count": 7,
      "outputs": [
        {
          "output_type": "stream",
          "name": "stdout",
          "text": [
            "\n",
            "11. Product Performance:\n",
            "              total_sales  avg_sales  store_count\n",
            "product_type                                     \n",
            "Clothing            31200     7800.0            4\n",
            "Electronics         59000    14750.0            4\n",
            "Grocery             10300     2575.0            4\n"
          ]
        }
      ]
    },
    {
      "cell_type": "code",
      "source": [
        "monthly_store = stores.groupby(['store_id', 'month'])['sales'].sum().reset_index()\n",
        "print(\"\\n12. Monthly Store Sales:\")\n",
        "print(monthly_store)"
      ],
      "metadata": {
        "colab": {
          "base_uri": "https://localhost:8080/"
        },
        "id": "nhr0KShZu9pn",
        "outputId": "50f2ba7a-deb6-4134-d458-7920b0c0a744"
      },
      "execution_count": 8,
      "outputs": [
        {
          "output_type": "stream",
          "name": "stdout",
          "text": [
            "\n",
            "12. Monthly Store Sales:\n",
            "  store_id month  sales\n",
            "0        A   Feb   2800\n",
            "1        A   Jan  25500\n",
            "2        B   Feb  14000\n",
            "3        B   Jan  20300\n",
            "4        C   Feb   7500\n",
            "5        C   Jan  30400\n"
          ]
        }
      ]
    },
    {
      "cell_type": "code",
      "source": [
        "employee_data = {\n",
        "    'emp_id': [101, 102, 103, 104, 105, 106, 107, 108],\n",
        "    'department': ['IT', 'HR', 'IT', 'Finance', 'HR', 'IT', 'Finance', 'IT'],\n",
        "    'position': ['Manager', 'Associate', 'Developer', 'Analyst', 'Manager', 'Developer', 'Manager', 'Analyst'],\n",
        "    'salary': [75000, 50000, 60000, 55000, 65000, 62000, 80000, 58000],\n",
        "    'experience_years': [8, 3, 5, 4, 7, 4, 10, 3]\n",
        "}"
      ],
      "metadata": {
        "id": "rYRW1JvQvG_W"
      },
      "execution_count": 9,
      "outputs": []
    },
    {
      "cell_type": "code",
      "metadata": {
        "colab": {
          "base_uri": "https://localhost:8080/"
        },
        "id": "1e6d953e",
        "outputId": "685a4db5-3453-4a09-c201-dceb8d669fed"
      },
      "source": [
        "employees = pd.DataFrame(employee_data)\n",
        "print(\"\\nEmployee Data:\")\n",
        "print(employees)"
      ],
      "execution_count": 11,
      "outputs": [
        {
          "output_type": "stream",
          "name": "stdout",
          "text": [
            "\n",
            "Employee Data:\n",
            "   emp_id department   position  salary  experience_years\n",
            "0     101         IT    Manager   75000                 8\n",
            "1     102         HR  Associate   50000                 3\n",
            "2     103         IT  Developer   60000                 5\n",
            "3     104    Finance    Analyst   55000                 4\n",
            "4     105         HR    Manager   65000                 7\n",
            "5     106         IT  Developer   62000                 4\n",
            "6     107    Finance    Manager   80000                10\n",
            "7     108         IT    Analyst   58000                 3\n"
          ]
        }
      ]
    },
    {
      "cell_type": "code",
      "source": [
        "dept_salary = employees.groupby('department')['salary'].agg([\n",
        "    ('total_payroll', 'sum'),\n",
        "    ('avg_salary', 'mean'),\n",
        "    ('min_salary', 'min'),\n",
        "    ('max_salary', 'max'),\n",
        "    ('employee_count', 'count')\n",
        "])\n",
        "print(\"\\n7. Department Salary Analysis:\")\n",
        "print(dept_salary)"
      ],
      "metadata": {
        "colab": {
          "base_uri": "https://localhost:8080/"
        },
        "id": "YTmriywkvs6f",
        "outputId": "b836abee-2b11-44db-b188-a4aecbe19258"
      },
      "execution_count": 13,
      "outputs": [
        {
          "output_type": "stream",
          "name": "stdout",
          "text": [
            "\n",
            "7. Department Salary Analysis:\n",
            "            total_payroll  avg_salary  min_salary  max_salary  employee_count\n",
            "department                                                                   \n",
            "Finance            135000     67500.0       55000       80000               2\n",
            "HR                 115000     57500.0       50000       65000               2\n",
            "IT                 255000     63750.0       58000       75000               4\n"
          ]
        }
      ]
    },
    {
      "cell_type": "code",
      "source": [
        "position_stats = employees.groupby('position').agg({\n",
        "    'salary': ['mean', 'min', 'max', 'std'],\n",
        "    'experience_years': ['mean', 'max']\n",
        "})\n",
        "print(\"\\n8. Position-wise Statistics:\")\n",
        "print(position_stats)"
      ],
      "metadata": {
        "colab": {
          "base_uri": "https://localhost:8080/"
        },
        "id": "YM1VT_0Pv6M2",
        "outputId": "2ffc3d4c-01d5-4130-bb0f-8326444334a2"
      },
      "execution_count": 14,
      "outputs": [
        {
          "output_type": "stream",
          "name": "stdout",
          "text": [
            "\n",
            "8. Position-wise Statistics:\n",
            "                 salary                            experience_years    \n",
            "                   mean    min    max          std             mean max\n",
            "position                                                               \n",
            "Analyst    56500.000000  55000  58000  2121.320344         3.500000   4\n",
            "Associate  50000.000000  50000  50000          NaN         3.000000   3\n",
            "Developer  61000.000000  60000  62000  1414.213562         4.500000   5\n",
            "Manager    73333.333333  65000  80000  7637.626158         8.333333  10\n"
          ]
        }
      ]
    }
  ]
}